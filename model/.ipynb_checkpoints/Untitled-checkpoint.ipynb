{
 "cells": [
  {
   "cell_type": "code",
   "execution_count": 20,
   "metadata": {},
   "outputs": [
    {
     "name": "stdout",
     "output_type": "stream",
     "text": [
      "The autoreload extension is already loaded. To reload it, use:\n",
      "  %reload_ext autoreload\n"
     ]
    }
   ],
   "source": [
    "# Import modules\n",
    "from __future__ import print_function\n",
    "import tensorflow as tf\n",
    "import numpy as np\n",
    "from data_loader import load_inputs\n",
    "from matplotlib import pyplot as plt\n",
    "import cv2\n",
    "from augment import Generator\n",
    "\n",
    "#%matplotlib inline\n",
    "%load_ext autoreload\n",
    "%autoreload 2"
   ]
  },
  {
   "cell_type": "code",
   "execution_count": 21,
   "metadata": {},
   "outputs": [
    {
     "name": "stdout",
     "output_type": "stream",
     "text": [
      "77579\n",
      "387895\n",
      "[[b'terrain2/run1/' b'1592884086.26' b'0.0' b'0.0' b'1' b'1' b'0.0'\n",
      "  b'0.0']\n",
      " [b'terrain4/run1/' b'1592888057.89' b'0.0' b'0.0' b'1' b'1' b'0.0'\n",
      "  b'0.0']\n",
      " [b'terrain1/run1/' b'1592880369.58' b'0.0' b'0.0' b'0.0' b'0.0'\n",
      "  b'13.597745358742301' b'0.0']\n",
      " [b'terrain4/run1/' b'1592887889.48' b'-17' b'-4' b'0.0' b'0.0' b'0.0'\n",
      "  b'0.0']\n",
      " [b'terrain3/run1/' b'1592886225.36' b'0.0' b'0.0' b'1' b'1' b'0.0'\n",
      "  b'0.0']\n",
      " [b'terrain4/run1/' b'1592888569.07' b'-17' b'-4' b'0.0' b'0.0' b'0.0'\n",
      "  b'0.0']\n",
      " [b'terrain3/run1/' b'1592885776.78' b'0.0' b'0.0' b'1' b'1' b'0.0'\n",
      "  b'0.0']\n",
      " [b'terrain2/run1/' b'1592884191.02' b'0.0' b'0.0' b'0.0' b'0.0' b'0.0'\n",
      "  b'0.0']\n",
      " [b'terrain3/run1/' b'1592886666.37' b'0.0' b'0.0' b'1' b'1' b'0.0'\n",
      "  b'0.0']\n",
      " [b'terrain2/run1/' b'1592884956.1' b'0.0' b'0.0' b'0.0' b'0.0' b'0.0'\n",
      "  b'0.0']\n",
      " [b'terrain1/run1/' b'1592880008.63' b'-17' b'-4' b'0.0' b'0.0' b'0.0'\n",
      "  b'0.0']\n",
      " [b'terrain5/run1/' b'1592969014.38' b'0.0' b'0.0' b'0.0' b'0.0' b'0.0'\n",
      "  b'0.9361559469812517']\n",
      " [b'terrain4/run1/' b'1592888373.34' b'0.0' b'0.0' b'0.0' b'0.0' b'0.0'\n",
      "  b'0.9361559469812517']\n",
      " [b'terrain2/run1/' b'1592884759.59' b'0.0' b'0.0' b'0.0' b'0.0'\n",
      "  b'13.597745358742301' b'0.0']\n",
      " [b'terrain1/run1/' b'1592880631.4' b'-17' b'-4' b'0.0' b'0.0' b'0.0'\n",
      "  b'0.0']\n",
      " [b'terrain1/run1/' b'1592879973.07' b'0.0' b'0.0' b'0.0' b'0.0' b'0.0'\n",
      "  b'0.0']\n",
      " [b'terrain1/run1/' b'1592880228.82' b'-17' b'-4' b'0.0' b'0.0' b'0.0'\n",
      "  b'0.0']\n",
      " [b'terrain3/run1/' b'1592885116.51' b'0.0' b'0.0' b'0.0' b'0.0' b'0.0'\n",
      "  b'0.9361559469812517']\n",
      " [b'terrain3/run1/' b'1592886450.85' b'0.0' b'0.0' b'0.0' b'0.0' b'0.0'\n",
      "  b'0.9361559469812517']\n",
      " [b'terrain3/run1/' b'1592886276.55' b'0.0' b'0.0' b'1' b'1' b'0.0'\n",
      "  b'0.0']\n",
      " [b'terrain5/run1/' b'1592968595.05' b'0.0' b'0.0' b'1' b'1' b'0.0'\n",
      "  b'0.0']\n",
      " [b'terrain2/run1/' b'1592883569.42' b'0.0' b'0.0' b'1' b'1' b'0.0'\n",
      "  b'0.0']\n",
      " [b'terrain3/run1/' b'1592885745.99' b'-17' b'-4' b'0.0' b'0.0' b'0.0'\n",
      "  b'0.0']\n",
      " [b'terrain1/run1/' b'1592880672.27' b'0.0' b'0.0' b'0.0' b'0.0' b'0.0'\n",
      "  b'0.0']\n",
      " [b'terrain3/run1/' b'1592886675.88' b'0.0' b'0.0' b'1' b'1' b'0.0'\n",
      "  b'0.0']\n",
      " [b'terrain5/run1/' b'1592967724.18' b'0.0' b'0.0' b'1' b'1' b'0.0'\n",
      "  b'0.0']\n",
      " [b'terrain3/run1/' b'1592886775.27' b'0.0' b'0.0' b'0.0' b'0.0'\n",
      "  b'13.597745358742301' b'0.0']\n",
      " [b'terrain3/run1/' b'1592885798.26' b'0.0' b'0.0' b'0.0' b'0.0' b'0.0'\n",
      "  b'0.9361559469812517']\n",
      " [b'terrain1/run1/' b'1592879995.33' b'-17' b'-4' b'0.0' b'0.0' b'0.0'\n",
      "  b'0.0']\n",
      " [b'terrain2/run1/' b'1592884200.76' b'0.0' b'0.0' b'0.0' b'0.0' b'0.0'\n",
      "  b'0.9361559469812517']\n",
      " [b'terrain3/run1/' b'1592886009.27' b'0.0' b'0.0' b'0.0' b'0.0' b'0.0'\n",
      "  b'0.0']\n",
      " [b'terrain5/run1/' b'1592969211.48' b'0.0' b'0.0' b'1' b'1' b'0.0'\n",
      "  b'0.0']]\n"
     ]
    }
   ],
   "source": [
    "#load data\n",
    "import os\n",
    "stamps = np.load(\"/home/ros/catkin_ws/src/ss_terrain_nav/bagFiles/dirs_and_files.npy\",allow_pickle=True)\n",
    "print(stamps.shape[0])\n",
    "\n",
    "gen = Generator(stamps,translate=[20,20],flip=[1,1],noise=1)\n",
    "\n",
    "print(gen.aug_size())\n",
    "next_batch = gen.gen_batch(32)\n",
    "\n",
    "batch = next(next_batch)\n",
    "\n",
    "print(batch)\n",
    "\n"
   ]
  },
  {
   "cell_type": "code",
   "execution_count": null,
   "metadata": {},
   "outputs": [],
   "source": []
  }
 ],
 "metadata": {
  "kernelspec": {
   "display_name": "Python 3",
   "language": "python",
   "name": "python3"
  },
  "language_info": {
   "codemirror_mode": {
    "name": "ipython",
    "version": 3
   },
   "file_extension": ".py",
   "mimetype": "text/x-python",
   "name": "python",
   "nbconvert_exporter": "python",
   "pygments_lexer": "ipython3",
   "version": "3.8.3"
  }
 },
 "nbformat": 4,
 "nbformat_minor": 2
}
